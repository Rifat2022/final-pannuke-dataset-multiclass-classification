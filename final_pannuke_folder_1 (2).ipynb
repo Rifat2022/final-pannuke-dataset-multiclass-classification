{
  "nbformat": 4,
  "nbformat_minor": 0,
  "metadata": {
    "colab": {
      "name": "final_pannuke_folder_1.ipynb",
      "provenance": [],
      "machine_shape": "hm",
      "collapsed_sections": []
    },
    "kernelspec": {
      "name": "python3",
      "display_name": "Python 3"
    },
    "language_info": {
      "name": "python"
    },
    "accelerator": "TPU"
  },
  "cells": [
    {
      "cell_type": "code",
      "execution_count": 1,
      "metadata": {
        "colab": {
          "base_uri": "https://localhost:8080/"
        },
        "id": "TUOiJI26tRYM",
        "outputId": "cf19b15d-bdbc-4bd1-be9f-38fa78c5fe16"
      },
      "outputs": [
        {
          "output_type": "stream",
          "name": "stdout",
          "text": [
            "Mounted at /content/drive\n"
          ]
        }
      ],
      "source": [
        "from google.colab import drive\n",
        "drive.mount('/content/drive')"
      ]
    },
    {
      "cell_type": "code",
      "source": [
        "import sys\n",
        "import pandas as pd\n",
        "import random\n",
        "from matplotlib import pyplot\n",
        "from tensorflow.keras.utils import to_categorical\n",
        "from keras.models import Sequential\n",
        "from keras.layers import Conv2D\n",
        "from keras.layers import MaxPooling2D\n",
        "from keras.layers import Dense\n",
        "from keras.layers import Flatten\n",
        "from tensorflow.keras.optimizers import SGD\n",
        "from keras.preprocessing.image import ImageDataGenerator\n",
        "from keras.layers import Dropout\n",
        "import numpy as np\n",
        "from sklearn.utils.multiclass import unique_labels\n",
        "import matplotlib.image as mpimg\n",
        "from sklearn.model_selection import train_test_split\n",
        "from sklearn.metrics import confusion_matrix\n",
        "from keras import Sequential\n",
        "from tensorflow.keras.applications import VGG19 #For Transfer Learning\n",
        "from keras.preprocessing.image import ImageDataGenerator\n",
        "from tensorflow.keras.optimizers import SGD,Adam\n",
        "from keras.models import Model\n",
        "from numpy import array\n",
        "from numpy import argmax\n",
        "from sklearn.preprocessing import LabelEncoder\n",
        "from sklearn.preprocessing import OneHotEncoder"
      ],
      "metadata": {
        "id": "6b5fccSV1CtR"
      },
      "execution_count": 10,
      "outputs": []
    },
    {
      "cell_type": "code",
      "source": [
        "x = np.load('/content/drive/MyDrive/Datasets/fold1/images.npy')\n",
        "y = np.load('/content/drive/MyDrive/Datasets/fold1/types.npy')\n"
      ],
      "metadata": {
        "id": "XaLBE7_xtr4Q"
      },
      "execution_count": 3,
      "outputs": []
    },
    {
      "cell_type": "code",
      "source": [
        "from sklearn.model_selection import train_test_split\n",
        "x_train, x_val, y_train, y_val = train_test_split(x, y, test_size=0.20, random_state= 1)\n"
      ],
      "metadata": {
        "id": "99cMVxpet0PN"
      },
      "execution_count": null,
      "outputs": []
    },
    {
      "cell_type": "code",
      "source": [
        "print(x_train.shape, y_train.shape)\n",
        "print(x_val.shape, y_val.shape)\n"
      ],
      "metadata": {
        "id": "vYSK2zIvxmqa"
      },
      "execution_count": null,
      "outputs": []
    },
    {
      "cell_type": "code",
      "source": [
        ""
      ],
      "metadata": {
        "id": "HjBU-yfco76T"
      },
      "execution_count": null,
      "outputs": []
    },
    {
      "cell_type": "code",
      "source": [
        "#encoding y_train\n",
        "\n",
        "# integer encode\n",
        "label_encoder = LabelEncoder()\n",
        "integer_encoded = label_encoder.fit_transform(y_train)\n",
        "print(integer_encoded)\n",
        "\n",
        "# binary encode\n",
        "onehot_encoder = OneHotEncoder(sparse=False)\n",
        "integer_encoded = integer_encoded.reshape(len(integer_encoded), 1)\n",
        "onehot_encoded = onehot_encoder.fit_transform(integer_encoded)\n",
        "#print(onehot_encoded)\n",
        "\n",
        "y_train = onehot_encoded"
      ],
      "metadata": {
        "colab": {
          "base_uri": "https://localhost:8080/"
        },
        "id": "DK2RdG6O4GAb",
        "outputId": "1465cfb7-8499-42d2-82f3-a3a8d85ab1f3"
      },
      "execution_count": null,
      "outputs": [
        {
          "output_type": "stream",
          "name": "stdout",
          "text": [
            "[ 3 17  5 ...  3  3 12]\n"
          ]
        }
      ]
    },
    {
      "cell_type": "code",
      "source": [
        "#encoding y_val\n",
        "\n",
        "# integer encode\n",
        "label_encoder = LabelEncoder()\n",
        "integer_encoded = label_encoder.fit_transform(y_val)\n",
        "#print(integer_encoded)\n",
        "\n",
        "# binary encode\n",
        "onehot_encoder = OneHotEncoder(sparse=False)\n",
        "integer_encoded = integer_encoded.reshape(len(integer_encoded), 1)\n",
        "onehot_encoded = onehot_encoder.fit_transform(integer_encoded)\n",
        "#print(onehot_encoded)\n",
        "\n",
        "y_val = onehot_encoded"
      ],
      "metadata": {
        "id": "oK4mcoR2Qz1J"
      },
      "execution_count": null,
      "outputs": []
    },
    {
      "cell_type": "code",
      "source": [
        "x_train, x_test, y_train, y_test = train_test_split(x_train, y_train, test_size=0.1, random_state= 1)"
      ],
      "metadata": {
        "id": "-TZ02AMRQizj"
      },
      "execution_count": null,
      "outputs": []
    },
    {
      "cell_type": "code",
      "source": [
        "print(x_train.shape, y_train.shape)\n",
        "print(x_val.shape, y_val.shape)\n",
        "print(x_test.shape, y_test.shape)"
      ],
      "metadata": {
        "colab": {
          "base_uri": "https://localhost:8080/"
        },
        "id": "djrVtN2yP1cg",
        "outputId": "51f050af-da0c-4194-e894-03c3365f46cc"
      },
      "execution_count": null,
      "outputs": [
        {
          "output_type": "stream",
          "name": "stdout",
          "text": [
            "(1719, 256, 256, 3) (1719, 19)\n",
            "(532, 256, 256, 3) (532, 19)\n",
            "(192, 256, 256, 3) (192, 19)\n"
          ]
        }
      ]
    },
    {
      "cell_type": "code",
      "source": [
        ""
      ],
      "metadata": {
        "id": "6YLEbml34vN7"
      },
      "execution_count": null,
      "outputs": []
    },
    {
      "cell_type": "code",
      "source": [
        ""
      ],
      "metadata": {
        "id": "0JvN-wLksAS-"
      },
      "execution_count": null,
      "outputs": []
    },
    {
      "cell_type": "markdown",
      "source": [
        "**REsNet50 using for folder 1**"
      ],
      "metadata": {
        "id": "SceGMkwqwVOI"
      }
    },
    {
      "cell_type": "code",
      "source": [
        "#@title Default title text\n",
        "train_generator = ImageDataGenerator(rotation_range=2, horizontal_flip=True, zoom_range=.1 )\n",
        "train_generator.fit(x_train)\n",
        "val_generator = ImageDataGenerator(rotation_range=2,  horizontal_flip= True, zoom_range=.1)\n",
        "val_generator.fit(x_val)\n",
        "test_generator = ImageDataGenerator(rotation_range=2,  horizontal_flip= True, zoom_range=.1)\n",
        "test_generator.fit(x_test)\n",
        "#Initializing ResNet50\n",
        "from tensorflow.keras.applications import ResNet50\n",
        "base_model_resnet = ResNet50(include_top = False, weights = 'imagenet', input_shape = (256,256,3))\n",
        "#Adding layers to the ResNet50\n",
        "model_resnet= Sequential()\n",
        "#Add the Dense layers along with activation and batch normalization\n",
        "model_resnet.add(base_model_resnet)\n",
        "model_resnet.add(Flatten())\n",
        "#Add the Dense layers along with activation and batch normalization\n",
        "model_resnet.add(Dense(1024,activation=('relu'), input_dim=512))\n",
        "model_resnet.add(Dense(512,activation=('relu'))) \n",
        "model_resnet.add(Dropout(.4))\n",
        "model_resnet.add(Dense(256,activation=('relu'))) \n",
        "model_resnet.add(Dropout(.3))\n",
        "model_resnet.add(Dense(128,activation=('relu')))\n",
        "model_resnet.add(Dropout(.2))\n",
        "model_resnet.add(Dense(19,activation=('softmax')))\n",
        "#model_resnet.summary()\n",
        "from tensorflow.keras.optimizers import SGD\n",
        "model_resnet.compile(optimizer = 'sgd', loss = 'categorical_crossentropy', metrics = ['accuracy'])\n",
        "#Training the ResNet50 model\n",
        "rest_net_history = model_resnet.fit(x_train ,y_train, epochs=1, validation_data =(x_val, y_val), verbose=1)\n",
        "test_score = model_resnet.evaluate(x_test, y_test, verbose = 1) \n",
        "model_resnet.save('resNet50 epoch 25 fold1.h5')"
      ],
      "metadata": {
        "id": "HTkaoSrXqpTE",
        "cellView": "form"
      },
      "execution_count": null,
      "outputs": []
    },
    {
      "cell_type": "code",
      "source": [
        ""
      ],
      "metadata": {
        "id": "UJiGdyeL3BLI"
      },
      "execution_count": null,
      "outputs": []
    },
    {
      "cell_type": "markdown",
      "source": [
        "**Vgg19 model**"
      ],
      "metadata": {
        "id": "XqJNHbALSqJ6"
      }
    },
    {
      "cell_type": "code",
      "source": [
        "#@title Default title text\n",
        "\n",
        "from keras.applications.vgg19 import VGG19\n",
        "\n",
        "# define cnn model\n",
        "def define_model():\n",
        "\t# load model\n",
        "\tmodel = VGG19(include_top=False, input_shape=(256, 256, 3))\n",
        "\t# mark loaded layers as not trainable\n",
        "\tfor layer in model.layers:\n",
        "\t\tlayer.trainable = False\n",
        "\n",
        "\tflat1 = Flatten()(model.layers[-1].output)\n",
        "\tclass1 = Dense(128, activation='relu', kernel_initializer='he_uniform')(flat1)\n",
        "\toutput = Dense(19, activation='softmax')(class1)\n",
        "\t\n",
        "\tmodel = Model(inputs=model.inputs, outputs=output)\n",
        "\t# compile model\n",
        "\topt = SGD(lr=0.0001, momentum=0.9)\n",
        "\tmodel.compile(optimizer=opt, loss='categorical_crossentropy', metrics=['accuracy'])\n",
        "\t# model.summary()\n",
        "\treturn model\n",
        "\n",
        "# run the test harness for evaluating a model\n",
        "def run_test_harness():\n",
        "\t\n",
        "\tmodel = define_model()\n",
        "\t# create data generator\n",
        "\tdatagen = ImageDataGenerator(featurewise_center=True, rotation_range=2, zoom_range=.2)\n",
        "\t\n",
        "\tdatagen.mean = [123.68, 116.779, 103.939]\n",
        "\t# fit model\n",
        "\thistory = model.fit(x_train, y_train, batch_size = 128, epochs = 1, verbose = 1, validation_data = (x_val, y_val))\n",
        "\n",
        "\t# evaluate model\n",
        "\tacc = model.evaluate(x_test, y_test, verbose=1)\n",
        "\t\n",
        "\tmodel.save('vgg19 fold1 20 epoch x_train.h5')\n",
        "\n",
        "\n",
        "run_test_harness()"
      ],
      "metadata": {
        "id": "hplnOI6sSpPS",
        "cellView": "form"
      },
      "execution_count": null,
      "outputs": []
    },
    {
      "cell_type": "markdown",
      "source": [
        "**Vgg16 fold 1**"
      ],
      "metadata": {
        "id": "-9m5LUOJTbAz"
      }
    },
    {
      "cell_type": "code",
      "source": [
        "#@title Default title text\n",
        "# from keras.applications.vgg16 import VGG16\n",
        "from keras.applications.vgg16 import VGG16\n",
        "\n",
        "# define cnn model\n",
        "def define_model():\n",
        "\t# load model\n",
        "\tmodel = VGG16(include_top=False, input_shape=(256, 256, 3))\n",
        "\t# mark loaded layers as not trainable\n",
        "\tfor layer in model.layers:\n",
        "\t\tlayer.trainable = False\n",
        "\n",
        "\tflat1 = Flatten()(model.layers[-1].output)\n",
        "\tclass1 = Dense(128, activation='relu', kernel_initializer='he_uniform')(flat1)\n",
        "\toutput = Dense(19, activation='softmax')(class1)\n",
        "\t\n",
        "\tmodel = Model(inputs=model.inputs, outputs=output)\n",
        "\t# compile model\n",
        "\topt = SGD(lr=0.0001, momentum=0.9)\n",
        "\tmodel.compile(optimizer=opt, loss='categorical_crossentropy', metrics=['accuracy'])\n",
        "\t#model.summary()\n",
        "\treturn model\n",
        "\n",
        "\n",
        "# run the test harness for evaluating a model\n",
        "def run_test_harness():\n",
        "\t\n",
        "\tmodel = define_model()\n",
        "\t# create data generator\n",
        "\tdatagen = ImageDataGenerator(featurewise_center=True,zoom_range=.1)\n",
        "\t\n",
        "\tdatagen.mean = [123.68, 116.779, 103.939]\n",
        "\t# fit model\n",
        "\thistory = model.fit(x_train, y_train, epochs=1, verbose=1, validation_data = (x_val, y_val))\n",
        "\t# evaluate model\n",
        "\tacc = model.evaluate(x_test, y_test, verbose=1)\n",
        "\t\n",
        "\t# save model\n",
        "\tmodel.save('vgg16 fold1 20 epoch y_train.h5')\n",
        "\n",
        "\n",
        "run_test_harness()"
      ],
      "metadata": {
        "id": "c4c8po_gTllD",
        "cellView": "form"
      },
      "execution_count": null,
      "outputs": []
    },
    {
      "cell_type": "markdown",
      "source": [
        "**DenseNet fold1**"
      ],
      "metadata": {
        "id": "QLXiim-mVJu8"
      }
    },
    {
      "cell_type": "code",
      "source": [
        "#@title Default title text\n",
        "import tensorflow as tf\n",
        "base_model_denseNet= tf.keras.applications.DenseNet169(\n",
        "    include_top=False,\n",
        "    weights=\"imagenet\",\n",
        "    input_tensor=None,\n",
        "    input_shape=(256,256,3),\n",
        "    pooling=None,\n",
        "    classes=y_train.shape[1],\n",
        "    \n",
        ")\n",
        "#Adding layers to the ResNet50\n",
        "model_dense=Sequential()\n",
        "#Add the Dense layers along with activation and batch normalization\n",
        "model_dense.add(base_model_denseNet)\n",
        "model_dense.add(Flatten())\n",
        "#Add the Dense layers along with activation and batch normalization\n",
        "# model_dense.add(Dense(1024,activation=('relu'), input_dim=512))\n",
        "model_dense.add(Dense(512,activation=('relu'))) \n",
        "model_dense.add(Dropout(.4))\n",
        "model_dense.add(Dense(256,activation=('relu'))) \n",
        "model_dense.add(Dropout(.3))\n",
        "model_dense.add(Dense(128,activation=('relu')))\n",
        "model_dense.add(Dropout(.2))\n",
        "model_dense.add(Dense(19,activation=('softmax')))\n",
        "\n",
        "from tensorflow.keras.optimizers import SGD\n",
        "model_dense.compile(optimizer = 'sgd', loss = 'categorical_crossentropy', metrics = ['accuracy'])\n",
        "dense_net_history = model_dense.fit(x_train, y_train, epochs=1, validation_data = (x_test, y_test), verbose=1)\n",
        "score = model_dense.evaluate(x_test, y_test, verbose= 1)"
      ],
      "metadata": {
        "id": "mnDwk6oAVI8C",
        "cellView": "form"
      },
      "execution_count": null,
      "outputs": []
    },
    {
      "cell_type": "code",
      "source": [
        "#First Spliting the dataset into three parts\n",
        "x_train1, x_train3, y_train1, y_train3 = train_test_split(x,y, test_size=.33, random_state=1)\n",
        "x_train1, x_train2, y_train1, y_train2 = train_test_split(x_train1, y_train1, test_size=.50, random_state=1)"
      ],
      "metadata": {
        "id": "eRycSAFNWEsS"
      },
      "execution_count": 8,
      "outputs": []
    },
    {
      "cell_type": "code",
      "source": [
        "#Now printing the shape and size of three parts\n",
        "print(x_train1.shape, y_train1.shape)\n",
        "print(x_train2.shape, y_train2.shape)\n",
        "print(x_train3.shape, y_train3.shape)"
      ],
      "metadata": {
        "colab": {
          "base_uri": "https://localhost:8080/"
        },
        "id": "7I4gJvxUYxGw",
        "outputId": "0defd073-f35d-4c83-af86-99fa5d28094c"
      },
      "execution_count": 9,
      "outputs": [
        {
          "output_type": "stream",
          "name": "stdout",
          "text": [
            "(889, 256, 256, 3) (889,)\n",
            "(890, 256, 256, 3) (890,)\n",
            "(877, 256, 256, 3) (877,)\n"
          ]
        }
      ]
    },
    {
      "cell_type": "code",
      "source": [
        "#encoding y_train1\n",
        "\n",
        "# integer encode\n",
        "label_encoder = LabelEncoder()\n",
        "integer_encoded = label_encoder.fit_transform(y_train1)\n",
        "#print(integer_encoded)\n",
        "# binary encode\n",
        "onehot_encoder = OneHotEncoder(sparse=False)\n",
        "integer_encoded = integer_encoded.reshape(len(integer_encoded), 1)\n",
        "onehot_encoded = onehot_encoder.fit_transform(integer_encoded)\n",
        "#print(onehot_encoded)\n",
        "\n",
        "y_train1 = onehot_encoded"
      ],
      "metadata": {
        "id": "8F3L1sg1Zejy"
      },
      "execution_count": 11,
      "outputs": []
    },
    {
      "cell_type": "code",
      "source": [
        "#encoding y_train2\n",
        "\n",
        "# integer encode\n",
        "label_encoder = LabelEncoder()\n",
        "integer_encoded = label_encoder.fit_transform(y_train2)\n",
        "#print(integer_encoded)\n",
        "# binary encode\n",
        "onehot_encoder = OneHotEncoder(sparse=False)\n",
        "integer_encoded = integer_encoded.reshape(len(integer_encoded), 1)\n",
        "onehot_encoded = onehot_encoder.fit_transform(integer_encoded)\n",
        "#print(onehot_encoded)\n",
        "\n",
        "y_train2 = onehot_encoded"
      ],
      "metadata": {
        "id": "shVcBo0MaJT6"
      },
      "execution_count": 12,
      "outputs": []
    },
    {
      "cell_type": "code",
      "source": [
        "#encoding y_train3\n",
        "\n",
        "# integer encode\n",
        "label_encoder = LabelEncoder()\n",
        "integer_encoded = label_encoder.fit_transform(y_train3)\n",
        "#print(integer_encoded)\n",
        "# binary encode\n",
        "onehot_encoder = OneHotEncoder(sparse=False)\n",
        "integer_encoded = integer_encoded.reshape(len(integer_encoded), 1)\n",
        "onehot_encoded = onehot_encoder.fit_transform(integer_encoded)\n",
        "#print(onehot_encoded)\n",
        "\n",
        "y_train3 = onehot_encoded"
      ],
      "metadata": {
        "id": "3km_-kgZaKfj"
      },
      "execution_count": 13,
      "outputs": []
    },
    {
      "cell_type": "code",
      "source": [
        "#Now printing the shape and size of three parts\n",
        "print(x_train1.shape, y_train1.shape)\n",
        "print(x_train2.shape, y_train2.shape)\n",
        "print(x_train3.shape, y_train3.shape)"
      ],
      "metadata": {
        "colab": {
          "base_uri": "https://localhost:8080/"
        },
        "id": "Ja7kRre4ac0z",
        "outputId": "e4a5a66f-935f-4313-ee50-80cdb599a1ce"
      },
      "execution_count": 14,
      "outputs": [
        {
          "output_type": "stream",
          "name": "stdout",
          "text": [
            "(889, 256, 256, 3) (889, 19)\n",
            "(890, 256, 256, 3) (890, 19)\n",
            "(877, 256, 256, 3) (877, 19)\n"
          ]
        }
      ]
    },
    {
      "cell_type": "code",
      "source": [
        "# spliting x_train1 and y_train1 into train , validation and test set\n",
        "x_train1, x_val1, y_train1, y_val1 = train_test_split(x_train1, y_train1, test_size=.2, random_state=1)\n",
        "x_train1, x_test1, y_train1, y_test1 = train_test_split(x_train1, y_train1, test_size=.1, random_state=1)\n",
        "#printing the shape\n",
        "print(\"................printing the sahpe..............\")\n",
        "print(x_train1.shape, y_train1.shape)\n",
        "print(x_val1.shape, y_val1.shape)\n",
        "print(x_test1.shape, y_test1.shape)"
      ],
      "metadata": {
        "colab": {
          "base_uri": "https://localhost:8080/"
        },
        "id": "pA6BIS3oajDi",
        "outputId": "a5c7a939-9d77-41ff-fdb6-1bbb1e4a5b44"
      },
      "execution_count": 15,
      "outputs": [
        {
          "output_type": "stream",
          "name": "stdout",
          "text": [
            "................printing the sahpe..............\n",
            "(639, 256, 256, 3) (639, 19)\n",
            "(178, 256, 256, 3) (178, 19)\n",
            "(72, 256, 256, 3) (72, 19)\n"
          ]
        }
      ]
    },
    {
      "cell_type": "code",
      "source": [
        "# spliting x_train2 and y_train2 into train , validation and test set\n",
        "x_train2, x_val2, y_train2, y_val2 = train_test_split(x_train2, y_train2, test_size=.2, random_state=1)\n",
        "x_train2, x_test2, y_train2, y_test2 = train_test_split(x_train2, y_train2, test_size=.1, random_state=1)\n",
        "#printing the shape\n",
        "print(\"printing the sahpe..............\")\n",
        "print(x_train2.shape, y_train2.shape)\n",
        "print(x_val2.shape, y_val2.shape)\n",
        "print(x_test2.shape, y_test2.shape)"
      ],
      "metadata": {
        "colab": {
          "base_uri": "https://localhost:8080/"
        },
        "id": "ZXZuNKaJcCzi",
        "outputId": "148eb587-2ddb-44c6-f6e5-926f8dcad210"
      },
      "execution_count": 16,
      "outputs": [
        {
          "output_type": "stream",
          "name": "stdout",
          "text": [
            "printing the sahpe..............\n",
            "(640, 256, 256, 3) (640, 19)\n",
            "(178, 256, 256, 3) (178, 19)\n",
            "(72, 256, 256, 3) (72, 19)\n"
          ]
        }
      ]
    },
    {
      "cell_type": "code",
      "source": [
        "# spliting x_train3 and y_train3 into train , validation and test set\n",
        "x_train3, x_val3, y_train3, y_val3 = train_test_split(x_train3, y_train3, test_size=.2, random_state=1)\n",
        "x_train3, x_test3, y_train3, y_test3 = train_test_split(x_train3, y_train3, test_size=.1, random_state=1)\n",
        "#printing the shape\n",
        "print(\"printing the sahpe..............\")\n",
        "print(x_train3.shape, y_train3.shape)\n",
        "print(x_val3.shape, y_val3.shape)\n",
        "print(x_test3.shape, y_test3.shape)"
      ],
      "metadata": {
        "colab": {
          "base_uri": "https://localhost:8080/"
        },
        "id": "tfMf9PtBcf16",
        "outputId": "d952e7d5-8637-4c59-fd5d-59d4621c2a0b"
      },
      "execution_count": 17,
      "outputs": [
        {
          "output_type": "stream",
          "name": "stdout",
          "text": [
            "printing the sahpe..............\n",
            "(630, 256, 256, 3) (630, 19)\n",
            "(176, 256, 256, 3) (176, 19)\n",
            "(71, 256, 256, 3) (71, 19)\n"
          ]
        }
      ]
    },
    {
      "cell_type": "markdown",
      "source": [
        "**ResNet50 Model for ensembling, fold 1**"
      ],
      "metadata": {
        "id": "5vzhGzlFtWYg"
      }
    },
    {
      "cell_type": "code",
      "source": [
        "from tensorflow.keras.applications import ResNet50\n",
        "from tensorflow.keras.optimizers import SGD\n",
        "base_model_resnet = ResNet50(include_top = False, weights = 'imagenet', input_shape = (256,256,3))\n",
        "\n",
        "train_generator = ImageDataGenerator(rotation_range=2, horizontal_flip=True, zoom_range=.1 )\n",
        "train_generator.fit(x_train1)\n",
        "val_generator = ImageDataGenerator(rotation_range=2, horizontal_flip=True, zoom_range=.1 )\n",
        "val_generator.fit(x_val1)\n",
        "test_generator = ImageDataGenerator(rotation_range=2,  horizontal_flip= True, zoom_range=.1)\n",
        "test_generator.fit(x_test1)\n",
        "\n",
        "\n",
        "#Adding layers to the ResNet50\n",
        "model_resnet= Sequential()\n",
        "#Add the Dense layers along with activation and batch normalization\n",
        "model_resnet.add(base_model_resnet)\n",
        "model_resnet.add(Flatten())\n",
        "#Add the Dense layers along with activation and batch normalization\n",
        "model_resnet.add(Dense(1024,activation=('relu'), input_dim=512))\n",
        "model_resnet.add(Dense(512,activation=('relu'))) \n",
        "model_resnet.add(Dropout(.4))\n",
        "model_resnet.add(Dense(256,activation=('relu'))) \n",
        "model_resnet.add(Dropout(.3))\n",
        "model_resnet.add(Dense(128,activation=('relu')))\n",
        "model_resnet.add(Dropout(.2))\n",
        "model_resnet.add(Dense(19,activation=('softmax')))\n",
        "\n",
        "#Summary of ResNet50 Model\n",
        "#model_resnet.summary()\n",
        "\n",
        "model_resnet.compile(optimizer = 'sgd', loss = 'categorical_crossentropy', metrics = ['accuracy'])\n",
        "#Training the ResNet50 model\n",
        "rest_net_history = model_resnet.fit(x_train1 ,y_train1, epochs=1, validation_data =(x_val1, y_val1), verbose=1)\n",
        "score = model_resnet.evaluate(x_test1, y_test1, verbose=1)\n",
        "model_resnet.save('resNet50-epoch25-fold1.h5')"
      ],
      "metadata": {
        "id": "imB0xSVotVnc",
        "colab": {
          "base_uri": "https://localhost:8080/"
        },
        "outputId": "8f731b99-a014-4a3b-cbde-755276a4e4c4"
      },
      "execution_count": 18,
      "outputs": [
        {
          "output_type": "stream",
          "name": "stdout",
          "text": [
            "Downloading data from https://storage.googleapis.com/tensorflow/keras-applications/resnet/resnet50_weights_tf_dim_ordering_tf_kernels_notop.h5\n",
            "94773248/94765736 [==============================] - 0s 0us/step\n",
            "94781440/94765736 [==============================] - 0s 0us/step\n",
            "Model: \"sequential\"\n",
            "_________________________________________________________________\n",
            " Layer (type)                Output Shape              Param #   \n",
            "=================================================================\n",
            " resnet50 (Functional)       (None, 8, 8, 2048)        23587712  \n",
            "                                                                 \n",
            " flatten (Flatten)           (None, 131072)            0         \n",
            "                                                                 \n",
            " dense (Dense)               (None, 1024)              134218752 \n",
            "                                                                 \n",
            " dense_1 (Dense)             (None, 512)               524800    \n",
            "                                                                 \n",
            " dropout (Dropout)           (None, 512)               0         \n",
            "                                                                 \n",
            " dense_2 (Dense)             (None, 256)               131328    \n",
            "                                                                 \n",
            " dropout_1 (Dropout)         (None, 256)               0         \n",
            "                                                                 \n",
            " dense_3 (Dense)             (None, 128)               32896     \n",
            "                                                                 \n",
            " dropout_2 (Dropout)         (None, 128)               0         \n",
            "                                                                 \n",
            " dense_4 (Dense)             (None, 19)                2451      \n",
            "                                                                 \n",
            "=================================================================\n",
            "Total params: 158,497,939\n",
            "Trainable params: 158,444,819\n",
            "Non-trainable params: 53,120\n",
            "_________________________________________________________________\n",
            "20/20 [==============================] - 79s 4s/step - loss: 2.5828 - accuracy: 0.3286 - val_loss: 4.1349 - val_accuracy: 0.1236\n",
            "3/3 [==============================] - 1s 419ms/step - loss: 4.1563 - accuracy: 0.0972\n"
          ]
        }
      ]
    },
    {
      "cell_type": "code",
      "source": [
        ""
      ],
      "metadata": {
        "id": "ysy9KL8FugEG"
      },
      "execution_count": null,
      "outputs": []
    },
    {
      "cell_type": "markdown",
      "source": [
        "**VGG19 for ensembling fold 1**"
      ],
      "metadata": {
        "id": "dr4RcrZAxbHV"
      }
    },
    {
      "cell_type": "code",
      "source": [
        "\n",
        "\n",
        "from keras.applications.vgg19 import VGG19\n",
        "\n",
        "# define cnn model\n",
        "def define_model():\n",
        "\t# load model\n",
        "\tmodel = VGG19(include_top=False, input_shape=(256, 256, 3))\n",
        "\t# mark loaded layers as not trainable\n",
        "\tfor layer in model.layers:\n",
        "\t\tlayer.trainable = False\n",
        "\n",
        "\tflat1 = Flatten()(model.layers[-1].output)\n",
        "\tclass1 = Dense(128, activation='relu', kernel_initializer='he_uniform')(flat1)\n",
        "\toutput = Dense(19, activation='softmax')(class1)\n",
        "\t\n",
        "\tmodel = Model(inputs=model.inputs, outputs=output)\n",
        "\t# compile model\n",
        "\topt = SGD(lr=0.0001, momentum=0.9)\n",
        "\tmodel.compile(optimizer=opt, loss='categorical_crossentropy', metrics=['accuracy'])\n",
        "\t# model.summary()\n",
        "\treturn model\n",
        "\n",
        "# run the test harness for evaluating a model\n",
        "def run_test_harness():\n",
        "\t\n",
        "\tmodel = define_model()\n",
        "\t# create data generator\n",
        "\tdatagen = ImageDataGenerator(featurewise_center=True, rotation_range=2, zoom_range=.2)\n",
        "\t\n",
        "\tdatagen.mean = [123.68, 116.779, 103.939]\n",
        "\t# fit model\n",
        "\thistory = model.fit(x_train2, y_train2, batch_size = 128, epochs = 1, verbose = 1, validation_data = (x_val2, y_val2))\n",
        "\n",
        "\t# evaluate model\n",
        "\tacc = model.evaluate(x_test2, y_test2, verbose=1)\n",
        "\t\n",
        "\tmodel.save('vgg19 fold1 20 epoch x_train.h5')\n",
        "\n",
        "\n",
        "run_test_harness()"
      ],
      "metadata": {
        "id": "xWwzGcG9xd0i",
        "colab": {
          "base_uri": "https://localhost:8080/"
        },
        "outputId": "d8c6876c-bc72-46d5-c419-b18963f8f3c4"
      },
      "execution_count": 19,
      "outputs": [
        {
          "output_type": "stream",
          "name": "stdout",
          "text": [
            "Downloading data from https://storage.googleapis.com/tensorflow/keras-applications/vgg19/vgg19_weights_tf_dim_ordering_tf_kernels_notop.h5\n",
            "80142336/80134624 [==============================] - 0s 0us/step\n",
            "80150528/80134624 [==============================] - 0s 0us/step\n"
          ]
        },
        {
          "output_type": "stream",
          "name": "stderr",
          "text": [
            "/usr/local/lib/python3.7/dist-packages/keras/optimizer_v2/gradient_descent.py:102: UserWarning: The `lr` argument is deprecated, use `learning_rate` instead.\n",
            "  super(SGD, self).__init__(name, **kwargs)\n"
          ]
        },
        {
          "output_type": "stream",
          "name": "stdout",
          "text": [
            "5/5 [==============================] - 41s 8s/step - loss: 13.1983 - accuracy: 0.1437 - val_loss: 9.0745 - val_accuracy: 0.2584\n",
            "3/3 [==============================] - 4s 999ms/step - loss: 8.3736 - accuracy: 0.2639\n"
          ]
        }
      ]
    },
    {
      "cell_type": "code",
      "source": [
        ""
      ],
      "metadata": {
        "id": "aJKxvTpPxo7g"
      },
      "execution_count": null,
      "outputs": []
    },
    {
      "cell_type": "markdown",
      "source": [
        "**Model VGG16 using for ensemble fold1**"
      ],
      "metadata": {
        "id": "GAUzMzqJx7oH"
      }
    },
    {
      "cell_type": "code",
      "source": [
        "\n",
        "\n",
        "from keras.applications.vgg16 import VGG16\n",
        "\n",
        "# define cnn model\n",
        "def define_model():\n",
        "\t# load model\n",
        "\tmodel = VGG16(include_top=False, input_shape=(256, 256, 3))\n",
        "\t# mark loaded layers as not trainable\n",
        "\tfor layer in model.layers:\n",
        "\t\tlayer.trainable = False\n",
        "\n",
        "\tflat1 = Flatten()(model.layers[-1].output)\n",
        "\tclass1 = Dense(128, activation='relu', kernel_initializer='he_uniform')(flat1)\n",
        "\toutput = Dense(19, activation='softmax')(class1)\n",
        "\t\n",
        "\tmodel = Model(inputs=model.inputs, outputs=output)\n",
        "\t# compile model\n",
        "\topt = SGD(lr=0.0001, momentum=0.9)\n",
        "\tmodel.compile(optimizer=opt, loss='categorical_crossentropy', metrics=['accuracy'])\n",
        "\t#model.summary()\n",
        "\treturn model\n",
        "\n",
        "\n",
        "# run the test harness for evaluating a model\n",
        "def run_test_harness():\n",
        "\t\n",
        "\tmodel = define_model()\n",
        "\t# create data generator\n",
        "\tdatagen = ImageDataGenerator(featurewise_center=True,zoom_range=.1)\n",
        "\t\n",
        "\tdatagen.mean = [123.68, 116.779, 103.939]\n",
        "\t# fit model\n",
        "\thistory = model.fit(x_train3, y_train3, epochs=1, verbose=1, validation_data = (x_val3, y_val3))\n",
        "\t# evaluate model\n",
        "\tacc = model.evaluate(x_test3, y_test3, verbose=1)\n",
        "\t\n",
        "\t# save model\n",
        "\tmodel.save('vgg16 fold1 20 epoch y_train.h5')\n",
        "\n",
        "\n",
        "run_test_harness()"
      ],
      "metadata": {
        "id": "2D8eREDByFi8",
        "colab": {
          "base_uri": "https://localhost:8080/"
        },
        "outputId": "5308162c-d586-4bad-89e8-873eb89c7039"
      },
      "execution_count": 20,
      "outputs": [
        {
          "output_type": "stream",
          "name": "stdout",
          "text": [
            "Downloading data from https://storage.googleapis.com/tensorflow/keras-applications/vgg16/vgg16_weights_tf_dim_ordering_tf_kernels_notop.h5\n",
            "58892288/58889256 [==============================] - 0s 0us/step\n",
            "58900480/58889256 [==============================] - 0s 0us/step\n"
          ]
        },
        {
          "output_type": "stream",
          "name": "stderr",
          "text": [
            "/usr/local/lib/python3.7/dist-packages/keras/optimizer_v2/gradient_descent.py:102: UserWarning: The `lr` argument is deprecated, use `learning_rate` instead.\n",
            "  super(SGD, self).__init__(name, **kwargs)\n"
          ]
        },
        {
          "output_type": "stream",
          "name": "stdout",
          "text": [
            "20/20 [==============================] - 33s 2s/step - loss: 7.1656 - accuracy: 0.2540 - val_loss: 2.6674 - val_accuracy: 0.3068\n",
            "3/3 [==============================] - 3s 766ms/step - loss: 3.1417 - accuracy: 0.2535\n"
          ]
        }
      ]
    },
    {
      "cell_type": "code",
      "source": [
        "#@title Sequential model 1\n",
        "# #Model 1\n",
        "\n",
        "# #Defining the Convolutional Neural Network\n",
        "# model1 = Sequential()\n",
        "\n",
        "# model1.add(Conv2D(32, (3, 3), input_shape = (256,256,3), activation='relu'))\n",
        "# model1.add(MaxPooling2D(pool_size = (2, 2)))\n",
        "# model1.add(Dropout(0.2))\n",
        "\n",
        "# model1.add(Conv2D(64, (3, 3), activation='relu'))\n",
        "# model1.add(MaxPooling2D(pool_size = (2, 2)))\n",
        "# model1.add(Dropout(0.2))\n",
        "\n",
        "# model1.add(Conv2D(128, (3, 3), activation='relu'))\n",
        "# model1.add(MaxPooling2D(pool_size = (2, 2)))\n",
        "# model1.add(Dropout(0.2))\n",
        "\n",
        "# model1.add(Flatten())\n",
        "\n",
        "# model1.add(Dense(128, activation = 'relu'))\n",
        "# model1.add(Dense(19, activation = 'softmax'))\n",
        "\n",
        "\n",
        "# #If your targets are one-hot encoded, use categorical_crossentropy. Examples of one-hot encodings:\n",
        "# # If your targets are integers, use sparse_categorical_crossentropy. \n",
        "\n",
        "# #model1.compile(loss ='sparse_categorical_crossentropy', optimizer='adam', metrics =['acc'])\n",
        "# model1.compile(loss ='categorical_crossentropy', optimizer='adam',metrics =['acc'])\n",
        "# #model1.summary()\n",
        "\n",
        "# #Training the CNN model1\n",
        "# #history = model1.fit(X_train, y_train, batch_size = 128, epochs = 10, verbose = 1, validation_data = (X_test, y_test))\n",
        "# history1 = model1.fit(x_train1, y_train1, batch_size = 128, epochs = 10, verbose = 1, validation_data = (x_test, y_test))\n",
        "\n",
        "# model1.save('model 1 fold1 epoch 10.hdf5')"
      ],
      "metadata": {
        "id": "6y1cDcb3z2OY",
        "cellView": "form"
      },
      "execution_count": null,
      "outputs": []
    },
    {
      "cell_type": "code",
      "source": [
        "#@title sequential model 2\n",
        "# model2 = Sequential()\n",
        "\n",
        "# model2.add(Conv2D(32, (3, 3), input_shape = (256,256,3), activation='relu'))\n",
        "# model2.add(Conv2D(32, (3, 3), activation='relu'))\n",
        "# model2.add(MaxPooling2D(pool_size = (2, 2)))\n",
        "\n",
        "# model2.add(Conv2D(64, (3, 3), activation='relu'))\n",
        "# model2.add(Conv2D(64, (3, 3), activation='relu'))\n",
        "# model2.add(Conv2D(64, (3, 3), activation='relu'))\n",
        "# model2.add(MaxPooling2D(pool_size = (2, 2)))\n",
        "\n",
        "# model2.add(Conv2D(128, (3, 3), activation='relu'))\n",
        "# model2.add(Conv2D(25, (1,1)))\n",
        "\n",
        "# model2.add(Flatten())\n",
        "\n",
        "# model2.add(Dense(19, activation = 'softmax'))\n",
        "\n",
        "# model2.compile(loss ='categorical_crossentropy', optimizer='adam',metrics =['acc'])\n",
        "# #model2.summary()\n",
        "\n",
        "# history2 = model2.fit(x_train1, y_train1, batch_size = 128, epochs = 10, verbose = 1, validation_data = (x_test, y_test))\n",
        "\n",
        "# model2.save('model2 fold1 epoch 10.hdf5')"
      ],
      "metadata": {
        "id": "8J6Wh-FYz-mY",
        "cellView": "form"
      },
      "execution_count": null,
      "outputs": []
    },
    {
      "cell_type": "code",
      "source": [
        "#@title Sequential model 3\n",
        "\n",
        "# model3 = Sequential()\n",
        "\n",
        "# model3.add(Conv2D(32, (3, 3), input_shape = (256,256,3), activation='relu'))\n",
        "# model3.add(MaxPooling2D(pool_size = (2, 2)))\n",
        "# model3.add(Dropout(0.2))\n",
        "\n",
        "# model3.add(Conv2D(64, (3, 3), activation='relu'))\n",
        "# model3.add(MaxPooling2D(pool_size = (2, 2)))\n",
        "# model3.add(Dropout(0.2))\n",
        "\n",
        "# model3.add(Flatten())\n",
        "\n",
        "# model3.add(Dense(19, activation = 'softmax'))\n",
        "\n",
        "# #If your targets are one-hot encoded, use categorical_crossentropy. Examples of one-hot encodings:\n",
        "# # If your targets are integers, use sparse_categorical_crossentropy. \n",
        "\n",
        "# #model1.compile(loss ='sparse_categorical_crossentropy', optimizer='adam', metrics =['acc'])\n",
        "# model3.compile(loss ='categorical_crossentropy', optimizer='adam',metrics =['acc'])\n",
        "# #model3.summary()\n",
        "\n",
        "# #Training the CNN model1\n",
        "# #history = model1.fit(X_train, y_train, batch_size = 128, epochs = 10, verbose = 1, validation_data = (X_test, y_test))\n",
        "# history3 = model3.fit(x_train2, y_train2, batch_size = 128, epochs = 10, verbose = 1, validation_data = (x_test, y_test))\n",
        "\n",
        "# model3.save('model3 fold3 epoch 10.hdf5')\n"
      ],
      "metadata": {
        "id": "GmCyRL3B9pw8",
        "cellView": "form"
      },
      "execution_count": null,
      "outputs": []
    },
    {
      "cell_type": "markdown",
      "source": [
        "**Ensembling all the three models (VGG16, Vgg19, RestNet50)**\n"
      ],
      "metadata": {
        "id": "5haBPZtr-OyT"
      }
    },
    {
      "cell_type": "code",
      "source": [
        "from tensorflow.keras.models import load_model\n",
        "from sklearn.metrics import accuracy_score"
      ],
      "metadata": {
        "id": "joN97o3P-RYs"
      },
      "execution_count": 21,
      "outputs": []
    },
    {
      "cell_type": "code",
      "source": [
        "model1 = load_model('resNet50-epoch25-fold1.h5')\n",
        "model2 = load_model('vgg19 fold1 20 epoch x_train.h5')\n",
        "model3 = load_model('vgg16 fold1 20 epoch y_train.h5')\n"
      ],
      "metadata": {
        "id": "0vql_jzL-TzJ"
      },
      "execution_count": 22,
      "outputs": []
    },
    {
      "cell_type": "code",
      "source": [
        "models = [model1, model2, model3] \n"
      ],
      "metadata": {
        "id": "eXLX8Whe--VT"
      },
      "execution_count": 23,
      "outputs": []
    },
    {
      "cell_type": "code",
      "source": [
        "preds = [model.predict(x_val1) for model in models]\n",
        "preds=np.array(preds)\n",
        "summed = np.sum(preds, axis=0)"
      ],
      "metadata": {
        "id": "RGosIz7N_D6L"
      },
      "execution_count": 24,
      "outputs": []
    },
    {
      "cell_type": "code",
      "source": [
        "ensemble_prediction = np.argmax(summed, axis=1)\n",
        "\n",
        "prediction1 = model1.predict(x_val1)\n",
        "prediction2 = model2.predict(x_val1)\n",
        "prediction3 = model3.predict(x_val1)\n"
      ],
      "metadata": {
        "id": "xixb-2oz_P3s"
      },
      "execution_count": 25,
      "outputs": []
    },
    {
      "cell_type": "code",
      "source": [
        "accuracy1 = accuracy_score(np.argmax(y_val1, axis=1), np.argmax(prediction1, axis=1))\n",
        "accuracy2 = accuracy_score(np.argmax(y_val1, axis=1), np.argmax(prediction2, axis= 1))\n",
        "accuracy3 = accuracy_score(np.argmax(y_val1, axis=1), np.argmax(prediction3, axis= 1))\n",
        "\n",
        "\n",
        "ensemble_accuracy = accuracy_score(np.argmax(y_val1, axis=1), ensemble_prediction)\n",
        "\n",
        "print('Accuracy Score for model1 = ', accuracy1)\n",
        "print('Accuracy Score for model2 = ', accuracy2)\n",
        "print('Accuracy Score for model3 = ', accuracy3)\n",
        "\n",
        "print('Accuracy Score for average ensemble = ', ensemble_accuracy)"
      ],
      "metadata": {
        "id": "01qwNcraJUgc",
        "outputId": "40ee7101-6525-46b6-f8d4-ac1c68214c02",
        "colab": {
          "base_uri": "https://localhost:8080/"
        }
      },
      "execution_count": 29,
      "outputs": [
        {
          "output_type": "stream",
          "name": "stdout",
          "text": [
            "Accuracy Score for model1 =  0.12359550561797752\n",
            "Accuracy Score for model2 =  0.3089887640449438\n",
            "Accuracy Score for model3 =  0.3089887640449438\n",
            "Accuracy Score for average ensemble =  0.30337078651685395\n"
          ]
        }
      ]
    },
    {
      "cell_type": "code",
      "source": [
        "#Weighted average ensemble\n",
        "models = [model1, model2,model3] \n",
        "preds = [model.predict(x_val2) for model in models]\n",
        "preds=np.array(preds)\n",
        "\n",
        "weights = [.4, .3,.3] \n",
        "\n",
        "#Use tensordot to sum the products of all elements over specified axes.\n",
        "weighted_preds = np.tensordot(preds, weights, axes=((0),(0)))\n",
        "weighted_ensemble_prediction = np.argmax(weighted_preds, axis=1)\n",
        "\n",
        "weighted_accuracy = accuracy_score(np.argmax(y_val2, axis= 1), weighted_ensemble_prediction)"
      ],
      "metadata": {
        "id": "uFewqMVa_rxs"
      },
      "execution_count": 32,
      "outputs": []
    },
    {
      "cell_type": "code",
      "source": [
        "print('Accuracy Score for model1 = ', accuracy1)\n",
        "print('Accuracy Score for model2 = ', accuracy2)\n",
        "print('Accuracy Score for model3 = ', accuracy3)\n",
        "\n",
        "print('Accuracy Score for average ensemble = ', ensemble_accuracy)\n",
        "print('Accuracy Score for weighted average ensemble = ', weighted_accuracy)"
      ],
      "metadata": {
        "id": "jukk-ypTY2Ym",
        "outputId": "6bbbbb03-8aee-4017-c10a-e3cdae82331f",
        "colab": {
          "base_uri": "https://localhost:8080/"
        }
      },
      "execution_count": 33,
      "outputs": [
        {
          "output_type": "stream",
          "name": "stdout",
          "text": [
            "Accuracy Score for model1 =  0.12359550561797752\n",
            "Accuracy Score for model2 =  0.3089887640449438\n",
            "Accuracy Score for model3 =  0.3089887640449438\n",
            "Accuracy Score for average ensemble =  0.30337078651685395\n",
            "Accuracy Score for weighted average ensemble =  0.24719101123595505\n"
          ]
        }
      ]
    },
    {
      "cell_type": "code",
      "source": [
        "#Grid search for the best combination of w1, w2, w3 that gives maximum acuracy\n",
        "models = [model1, model2, model3]\n",
        "preds1 = [model.predict(x_val2) for model in models]\n",
        "preds1=np.array(preds1)\n",
        "\n",
        "import pandas as pd\n",
        "df = pd.DataFrame([])\n",
        "\n",
        "for w1 in range(0, 5):\n",
        "    for w2 in range(0,5):\n",
        "        for w3 in range(0,5):\n",
        "            wts = [w1/10.,w2/10.,w3/10.]\n",
        "            wted_preds1 = np.tensordot(preds1, wts, axes=((0),(0)))\n",
        "            wted_ensemble_pred = np.argmax(wted_preds1, axis=1)\n",
        "            weighted_accuracy = accuracy_score(np.argmax(y_val2, axis=1), wted_ensemble_pred)\n",
        "            df = df.append(pd.DataFrame({'wt1':wts[0],'wt2':wts[1], \n",
        "                                         'wt3':wts[2], 'acc':weighted_accuracy*100}, index=[0]), ignore_index=True)\n",
        "            \n",
        "max_acc_row = df.iloc[df['acc'].idxmax()]\n",
        "print(\"Max accuracy of \", max_acc_row[0], \" obained with w1=\", max_acc_row[1],\n",
        "      \" w2=\", max_acc_row[2], \" and w3=\", max_acc_row[3])         \n"
      ],
      "metadata": {
        "colab": {
          "base_uri": "https://localhost:8080/"
        },
        "id": "zAVrHXy3k_m9",
        "outputId": "192401ef-0f7b-42c5-aa94-40f53f70247d"
      },
      "execution_count": 37,
      "outputs": [
        {
          "output_type": "stream",
          "name": "stdout",
          "text": [
            "Max accuracy of  0.1  obained with w1= 0.1  w2= 0.3  and w3= 34.831460674157306\n"
          ]
        }
      ]
    },
    {
      "cell_type": "code",
      "source": [
        "class_names =['Adrenal', 'Bile duct', 'Bladder', 'Breast', 'Colon', 'Cervix', 'Esophagus', 'Head&Neck', 'Kidney', 'Liver', 'Lung', 'Ovarian', 'Pancreatic', 'Prostate', 'Skin', 'Testis', 'Stomach', 'Thyroid', 'Uterus']"
      ],
      "metadata": {
        "id": "67ERXMOznIhO"
      },
      "execution_count": 38,
      "outputs": []
    },
    {
      "cell_type": "code",
      "source": [
        "# Explore metrics for the ideal weighted ensemble model. \n",
        "import matplotlib.pyplot as plt\n",
        "models = [model1, model2, model3]\n",
        "preds = [model.predict(x_val2) for model in models]\n",
        "preds=np.array(preds)\n",
        "ideal_weights = [.1, .4, .5] \n",
        "\n",
        "#Use tensordot to sum the products of all elements over specified axes.\n",
        "ideal_weighted_preds = np.tensordot(preds, ideal_weights, axes=((0),(0)))\n",
        "ideal_weighted_ensemble_prediction = np.argmax(ideal_weighted_preds, axis=1)\n",
        "\n",
        "ideal_weighted_accuracy = accuracy_score(np.argmax(y_val2, axis=1), ideal_weighted_ensemble_prediction)\n",
        "\n",
        "\n",
        "\n",
        "i = random.randint(1,len(ideal_weighted_ensemble_prediction))\n",
        "plt.imshow(x_val2[i,:,:,0]) \n",
        "print(\"Predicted Label: \", class_names[int(ideal_weighted_ensemble_prediction[i])])\n",
        "print(\"True Label: \", class_names[np.argmax(y_val2[i])])\n",
        "\n"
      ],
      "metadata": {
        "id": "UtIvIywiCLbc",
        "colab": {
          "base_uri": "https://localhost:8080/",
          "height": 306
        },
        "outputId": "d4e9ba5b-6099-4393-8c55-a08faa32a6c9"
      },
      "execution_count": 41,
      "outputs": [
        {
          "output_type": "stream",
          "name": "stdout",
          "text": [
            "Predicted Label:  Cervix\n",
            "True Label:  Cervix\n"
          ]
        },
        {
          "output_type": "display_data",
          "data": {
            "text/plain": [
              "<Figure size 432x288 with 1 Axes>"
            ],
            "image/png": "[encoded data removed]"
          },
          "metadata": {
            "needs_background": "light"
          }
        }
      ]
    },
    {
      "cell_type": "code",
      "source": [
        "from sklearn.metrics import confusion_matrix\n",
        "import seaborn as sns\n",
        "#Print confusion matrix\n",
        "cm = confusion_matrix(np.argmax(y_val2, axis=1 ), ideal_weighted_ensemble_prediction)\n",
        "\n",
        "fig, ax = plt.subplots(figsize=(18,9))\n",
        "sns.set(font_scale=0.9)\n",
        "sns.heatmap(cm, annot=True, linewidths=.5, ax=ax)"
      ],
      "metadata": {
        "colab": {
          "base_uri": "https://localhost:8080/",
          "height": 562
        },
        "id": "zSKxfm1JohjG",
        "outputId": "d6fe9582-13f9-42b5-e370-e005c82272cb"
      },
      "execution_count": 53,
      "outputs": [
        {
          "output_type": "execute_result",
          "data": {
            "text/plain": [
              "<matplotlib.axes._subplots.AxesSubplot at 0x7f693cca0150>"
            ]
          },
          "metadata": {},
          "execution_count": 53
        },
        {
          "output_type": "display_data",
          "data": {
            "text/plain": [
              "<Figure size 1296x648 with 2 Axes>"
            ],
            "image/png": "[encoded data removed]"
          },
          "metadata": {}
        }
      ]
    }
  ]
}